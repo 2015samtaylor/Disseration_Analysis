{
  "nbformat": 4,
  "nbformat_minor": 5,
  "metadata": {
    "kernelspec": {
      "display_name": "Python 3",
      "language": "python",
      "name": "python3"
    },
    "language_info": {
      "codemirror_mode": {
        "name": "ipython",
        "version": 3
      },
      "file_extension": ".py",
      "mimetype": "text/x-python",
      "name": "python",
      "nbconvert_exporter": "python",
      "pygments_lexer": "ipython3",
      "version": "3.8.3"
    },
    "colab": {
      "name": "Create_Intraday_Colab.ipynb",
      "provenance": [],
      "collapsed_sections": [],
      "include_colab_link": true
    }
  },
  "cells": [
    {
      "cell_type": "markdown",
      "metadata": {
        "id": "view-in-github",
        "colab_type": "text"
      },
      "source": [
        "<a href=\"https://colab.research.google.com/github/2015samtaylor/Disseration_Analysis/blob/main/Create_Intraday_Colab.ipynb\" target=\"_parent\"><img src=\"https://colab.research.google.com/assets/colab-badge.svg\" alt=\"Open In Colab\"/></a>"
      ]
    },
    {
      "cell_type": "code",
      "metadata": {
        "id": "bBwdCfkqRCHe",
        "cellView": "form"
      },
      "source": [
        "#@title Install Packages and Mount Google Drive \n",
        "\n",
        "%%capture\n",
        "from google.colab import drive\n",
        "drive.mount('/content/drive')\n",
        "\n",
        "!pip install alpha_vantage"
      ],
      "id": "bBwdCfkqRCHe",
      "execution_count": null,
      "outputs": []
    },
    {
      "cell_type": "code",
      "metadata": {
        "colab": {
          "base_uri": "https://localhost:8080/"
        },
        "id": "6e48c056",
        "outputId": "7b1b92ac-4a81-40fe-895e-e79f2bc21cde",
        "cellView": "form"
      },
      "source": [
        "#@title Get Data from API \n",
        "\n",
        "import pandas as pd\n",
        "from alpha_vantage.timeseries import TimeSeries\n",
        "from datetime import datetime\n",
        "from google.colab import drive\n",
        "\n",
        "api_key = 'QFZF2CEU5FAI6YIW'\n",
        "\n",
        "sym = input(\"What is the ticker you are looking for? \")"
      ],
      "id": "6e48c056",
      "execution_count": null,
      "outputs": [
        {
          "name": "stdout",
          "output_type": "stream",
          "text": [
            "What is the ticker you are looking for? TGT\n"
          ]
        }
      ]
    },
    {
      "cell_type": "code",
      "metadata": {
        "colab": {
          "base_uri": "https://localhost:8080/"
        },
        "id": "284ef2b5",
        "outputId": "a87e5244-f1cc-443b-ca27-c6449e5a8177",
        "cellView": "form"
      },
      "source": [
        " #@title Create Intraday Highs and Lows Dataframes\n",
        "\n",
        "ticker = sym\n",
        "date = 'year1month1'\n",
        "\n",
        "df_1 = pd.read_csv('https://www.alphavantage.co/query?function=TIME_SERIES_INTRADAY_EXTENDED&symbol='+ticker+'&interval=15min&slice='+date+'&apikey='+api_key+'&datatype=csv&outputsize=full')\n",
        "\n",
        "date = 'year1month2'\n",
        "df_2 = pd.read_csv('https://www.alphavantage.co/query?function=TIME_SERIES_INTRADAY_EXTENDED&symbol='+ticker+'&interval=15min&slice='+date+'&apikey='+api_key+'&datatype=csv&outputsize=full')\n",
        "\n",
        "date = 'year1month3'\n",
        "df_3 = pd.read_csv('https://www.alphavantage.co/query?function=TIME_SERIES_INTRADAY_EXTENDED&symbol='+ticker+'&interval=15min&slice='+date+'&apikey='+api_key+'&datatype=csv&outputsize=full')\n",
        "\n",
        "date = 'year1month4'\n",
        "df_4 = pd.read_csv('https://www.alphavantage.co/query?function=TIME_SERIES_INTRADAY_EXTENDED&symbol='+ticker+'&interval=15min&slice='+date+'&apikey='+api_key+'&datatype=csv&outputsize=full')\n",
        "\n",
        "# -------\n",
        "df = pd.concat([df_1, df_2, df_3, df_4], ignore_index = True)\n",
        "df['time'] = df['time'].apply(lambda x: datetime.strptime(x, '%Y-%m-%d %H:%M:%S'))\n",
        "df['Day_of_the_Week'] = df['time'].dt.day_name()\n",
        "\n",
        "time_end = df['time'].iloc[0]\n",
        "time_begin = df['time'].iloc[-1]\n",
        "\n",
        "TB = str(time_begin)[0:10]\n",
        "time_begin = TB +  str(' 6:30:00')\n",
        "\n",
        "TE = str(time_end)[0:10]\n",
        "time_end = TB +  str(' 13:00:00')\n",
        "\n",
        "df.set_index('time')\n",
        "\n",
        "# --------\n",
        "# Function to Create Intraday DataFrames as CSVs\n",
        "\n",
        "beginning = pd.date_range(start = time_begin, end = TE, freq = 'D')\n",
        "the_end = pd.date_range(start = time_end , end = TE, freq = 'D')\n",
        "\n",
        "beginning = beginning.to_frame(index = False)\n",
        "beginning.rename(columns={0 : 't'}, inplace = True)\n",
        "the_end = the_end.to_frame(index = False)\n",
        "the_end.rename(columns = {0 : 'ti'}, inplace = True)\n",
        "\n",
        "first = beginning['t'].tolist()\n",
        "second = the_end['ti'].tolist()\n",
        "\n",
        "sym = sym.upper()\n",
        "\n",
        "drive.mount('/drive')\n",
        "\n",
        "def go(beginning_time, end_time):\n",
        "    total_time = len(beginning_time)\n",
        "    i = 0\n",
        "    while i < total_time:\n",
        "        one_day = pd.date_range(start = beginning_time[i], end = end_time[i] , freq = '15min')\n",
        "        single_day = one_day.to_frame(index = True)\n",
        "        single_day.rename(columns={0 : 'time'}, inplace = True)\n",
        "        combo = pd.merge(single_day, df, on = 'time', how = 'inner') \n",
        "        if not combo.empty:\n",
        "            data = combo\n",
        "            ind = data[['low']].idxmin()\n",
        "            new = pd.DataFrame()\n",
        "            record = data.iloc[ind]\n",
        "            answer = pd.concat([new, record], ignore_index = True)\n",
        "            answer.to_csv('/drive/My Drive/Stock_Market_CSVs/'+sym+'_low_intraday.csv', index = False, mode = 'a') \n",
        "        i += 1\n",
        "        \n",
        "go(first, second)\n",
        "\n",
        "# ------\n",
        "drive.mount('/drive')\n",
        "\n",
        "def go(beginning_time, end_time):\n",
        "    total_time = len(beginning_time)\n",
        "    i = 0\n",
        "    while i < total_time:\n",
        "        one_day = pd.date_range(start = beginning_time[i], end = end_time[i] , freq = '15min')\n",
        "        single_day = one_day.to_frame(index = True)\n",
        "        single_day.rename(columns={0 : 'time'}, inplace = True)\n",
        "        combo = pd.merge(single_day, df, on = 'time', how = 'inner') \n",
        "        if not combo.empty:\n",
        "            data = combo\n",
        "            ind = data[['low']].idxmax()\n",
        "            new = pd.DataFrame()\n",
        "            record = data.iloc[ind]\n",
        "            answer = pd.concat([new, record], ignore_index = True)\n",
        "            answer.to_csv('/drive/My Drive/Stock_Market_CSVs/'+sym+'_high_intraday.csv', index = False, mode = 'a') \n",
        "        i += 1\n",
        "        \n",
        "go(first, second)"
      ],
      "id": "284ef2b5",
      "execution_count": null,
      "outputs": [
        {
          "output_type": "stream",
          "name": "stdout",
          "text": [
            "Mounted at /drive\n",
            "Drive already mounted at /drive; to attempt to forcibly remount, call drive.mount(\"/drive\", force_remount=True).\n"
          ]
        }
      ]
    }
  ]
}